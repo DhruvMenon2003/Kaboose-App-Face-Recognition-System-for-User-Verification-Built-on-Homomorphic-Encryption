{
  "nbformat": 4,
  "nbformat_minor": 0,
  "metadata": {
    "colab": {
      "provenance": [],
      "authorship_tag": "ABX9TyMndMME1jZ2A91NB5RXeWwn",
      "include_colab_link": true
    },
    "kernelspec": {
      "name": "python3",
      "display_name": "Python 3"
    },
    "language_info": {
      "name": "python"
    }
  },
  "cells": [
    {
      "cell_type": "markdown",
      "metadata": {
        "id": "view-in-github",
        "colab_type": "text"
      },
      "source": [
        "<a href=\"https://colab.research.google.com/github/DhruvMenon2003/Kaboose-App-Face-Recognition-System-for-User-Verification-Built-on-Homomorphic-Encryption/blob/main/Kaboose_Verification_App.ipynb\" target=\"_parent\"><img src=\"https://colab.research.google.com/assets/colab-badge.svg\" alt=\"Open In Colab\"/></a>"
      ]
    },
    {
      "cell_type": "code",
      "execution_count": 20,
      "metadata": {
        "id": "f7XE5Q5UPMXc"
      },
      "outputs": [],
      "source": [
        "#Imported Light Partial Homomoprhic Encryption Library(LightPHE)\n",
        "#Building multiple cryptosystems based on RSA, ElGamal, Paillier and Goldwasser-Micali PHE algorithms\n",
        "cs_RSA=LightPHE(algorithm_name=\"RSA\")\n",
        "cs_ElGamal=LightPHE(algorithm_name=\"ElGamal\")\n",
        "cs_Paillier=LightPHE(algorithm_name=\"Paillier\")\n",
        "cs_GoldwasserMicali=LightPHE(algorithm_name=\"Goldwasser-Micali\")\n",
        "#Test RSA to learn what is Multiplicatively Homomoprhic\n",
        "m1=17\n",
        "m2=23\n",
        "c1=cs_RSA.encrypt(plaintext=m1)\n",
        "c2=cs_RSA.encrypt(plaintext=m2)\n",
        "assert cs_RSA.decrypt(c1*c2)==m1*m2\n",
        "#Test Paillier to learn what is Additively Homomorphic + Multiplication by a scalar + Regeneration of CipherText\n",
        "c1=cs_Paillier.encrypt(plaintext=m1)\n",
        "c2=cs_Paillier.encrypt(plaintext=m2)\n",
        "assert cs_Paillier.decrypt(c1+c2)==m1+m2\n",
        "c1_new= cs_Paillier.regenerate_ciphertext(ciphertext=c1)\n",
        "assert cs_Paillier.decrypt(c1_new)==m1\n",
        "#Test Goldwasser-Micali what is  Exclusively Homomorphic\n",
        "c1=cs_GoldwasserMicali.encrypt(plaintext=m1)\n",
        "c2=cs_GoldwasserMicali.encrypt(plaintext=m2)\n",
        "assert cs_GoldwasserMicali.decrypt(c1^c2)==m1^m2"
      ]
    },
    {
      "cell_type": "markdown",
      "source": [
        "### Kaboose App Face Recognition System for User Verification Built on Homomorphic Encryption\n",
        "### What is the idea of homomorphic encryption?\n",
        "Perform any operation on encrypted data without decrypting.\n",
        "### Encryption Algorithm used : **CKKS**\n",
        "CKKS has been an essential tool in enabling privacy-preserving computations, especially in fields like data analysis, machine learning, and medical research, where the need to perform computations on sensitive data is common. It offers a way to do this without compromising the privacy of the underlying data.\n",
        "### How it works?\n",
        "Finds Euclidean Distance between encrypted image embeddings . If comparison is successful(no matches with existing data) it goes to the DeepFace AI model for verification after which it is deleted. If comparison is unsuccessful(matches with existing data), the image is directly deleted.\n",
        "### Features\n",
        "* The Cloud Database provides the resources for the computationally intensive\n",
        "operations like Euclidean Distance calculations\n",
        "* Protects sensitive data in cloud against cyberattacks by adding noise to during encryption.\n",
        "\n",
        "\n",
        "\n",
        "\n",
        "\n",
        "\n"
      ],
      "metadata": {
        "id": "92xTwX8BPwOB"
      }
    },
    {
      "cell_type": "code",
      "source": [
        "#Import Required Libraries\n",
        "import tenseal as ts\n",
        "from deepface import DeepFace\n",
        "import base64\n",
        "import math\n",
        "#Link to app\n",
        "#Only allow 1 user to upload 1 image. Allow user to visualize uploaded image by opening \"Page1.jpg\" or the page with the image icon centered inside a mobile icon with \"This is me\" below. Grab the path and upload to Google CoLab.\n",
        "#We are going to find vector representations of uploaded facial images.\n",
        "#Finding Embeddings: (Data is right now on Google CoLab Client)\n",
        "img1_path = (from user1)\n",
        "img2_path = (from user2)\n",
        "....\n",
        "imgn_path = (from usern)\n",
        "img1_embedding = DeepFace.represent(model_name=\"Facenet\",img_path=img1_path)\n",
        "img2_embedding = DeepFace.represent(model_name=\"Facenet\",img_path=img2_path)\n",
        "imgn_embedding = DeepFace.represent(model_name=\"Facenet\",img_path=imgn_path)\n",
        "#Write code for a try catch loop to catch the error.If \"No face\" error appears, then open \"Page3.jpg\" or page asking user to retry\n",
        "#Initialize Private key-Public Key pairs : (Data is right now on Google CoLab Client)\n",
        "context = ts.context(ts.SCHEME_TYPE.CKKS, poly_modulus_degree=8192, coeff_mod_bit_sizes = [60,40,40,60] )\n",
        "context.generate_galois_keys()\n",
        "context.global_scale = 2**40\n",
        "secret_context = context.serialize(save_secret_key=True)\n",
        "write_data(\"secret.txt\", secret_context)\n",
        "context.make_context_public()\n",
        "public_context = context.serialize()\n",
        "write_data(\"public.txt\", public_context)\n",
        "del context,secret_context,public_context #very important step for security!!\n",
        "#Code to Transfer Public.txt to the chosen Docker/Cloud Client\n",
        "\n",
        "#Encryption: (Data will be encrypted on Google CoLab Client)\n",
        "context = ts.context_from(read_data(\"secret.txt\"))\n",
        "enc_v1 = ts.ckks_vector(context, img1_embedding)\n",
        "enc_v2 = ts.ckks_vector(context, img2_embedding)\n",
        "...\n",
        "enc_vn = ts.ckks_vector(context, imgn_embedding)\n",
        "#Write Code to Transfer Encrypted embeddings to the chosen Docker/Cloud client (Data is right now Cloud Client)\n",
        "#Store the uploaded embeddings on the chosen Docker/cloud client\n",
        "write_data(\"enc_v1.txt\", enc_v1.serialize())\n",
        "write_data(\"enc_v2.txt\", enc_v2.serialize())\n",
        "...\n",
        "write_data(\"enc_vn.txt\", enc_vn.serialize())\n",
        "#Code to Transfer files to the Cloud\n",
        "del context,enc_v1,enc_v2,..enc_vn  #very important step for security!!\n",
        "\n",
        "#Comparison step: Each embedding with the other embeddings and the embeddings that are already stored on the Cloud Client from previous users.(Encrypted Data is now on Cloud Client)\n",
        "context = ts.context_from(read_data(\"public.txt\"))\n",
        "enc_v1 = ts.lazy_ckks_tensor_from(read_data(\"enc_v1.txt\"))\n",
        "enc_v2 = ts.lazy_ckks_tensor_from(read_data(\"enc_v2.txt\"))\n",
        "...\n",
        "enc_vn = ts.lazy_ckks_tensor_from(read_data(\"enc_vn.txt\"))\n",
        "enc_v1.link_context(context)\n",
        "enc_v2.link_context(context)\n",
        "...\n",
        "enc_vn.link_context(context)\n",
        "#Take difference all possible pairs of vector embeddings and take the dot product with itself.\n",
        "#For eg.\n",
        "euclidean_squared = enc_v1-enc_v2\n",
        "euclidean_squared = euclidean_squared.dot(euclidean_squared)\n",
        "euclidean_squared = enc_v2-enc_v3\n",
        "euclidean_squared = euclidean_squared.dot(euclidean_squared)\n",
        "...\n",
        "euclidean_squared = enc_v1-enc_vn\n",
        "euclidean_squared = euclidean_squared.dot(euclidean_squared)\n",
        "del context,enc_v1,enc_v2, euclidean_squared #very important step for security!!\n",
        "#Each embedding will have a vector of euclidean_squared distance values from other embeddings.\n",
        "write_data(file_name=\"euclidean_squared.txt\",file_context=euclidean_squared.serialize())\n",
        "#Write code to transfer \"euclidean_squared.txt\" from Cloud client to the Google CoLab Client\n",
        "#Decryption: (Data in file \"euclidean_squared.txt\" will be decrypted on Google CoLab Client)\n",
        "....\n",
        "#Data is right now in Google CoLab Client\n",
        "context = ts.context_from(read_data(\"secret.txt\"))\n",
        "euclidean_squared = ts.lazy_ckks_tensor_from(read_data(\"euclidean_squared.txt\"))\n",
        "euclidean_squared.link_context(context)\n",
        "#Execute in a Loop for each embedding.\n",
        "for embedding enc_v1,\n",
        "for i=2:n ( Each embedding is compared with n-1 other embeddings)\n",
        "  euclidean distance = math.sqrt(euclidean_squared[i].decrypt()[0])\n",
        "  if euclidean_distance < 10:\n",
        "    #Open \"Page3.jpg\" or page asking user to retry with the retry button\n",
        "    #Write code to Delete image embedding stored in the .txt file in the cloud client\n",
        "#Move to \"Page6.jpg\" or page with the video icon\n",
        "DeepFace.stream(db_path=img1_path,model_name=\"Facenet\")\n",
        "#Render the video on webcam in place of the video icon centered inside the mobile icon (refer to \"Page7.jpg\")\n",
        "#If the output from the Model = True, then the user is verified so move to \"Page2.jpg\" or the page with the video icon and back button\n",
        "#If the output from the Model = False, then the user is not verified so Open \"Page3.jpg\" or page asking user to retry with the retry button\n",
        "\n",
        "del context #very important step for security!!\n",
        "del \"secret.txt\" #We don't want anyone to decrypt the sensitive data stored in the cloud! Most Important Step for Security, Do not forget!\n",
        "Delete the image files and video taken by DeepFace, uploaded to GoogleCoLab by ending session! (The encrypted embeddings are safely stored in cloud client)\n",
        "def write_data(file_name, data):\n",
        "\n",
        "    if type(data) == bytes:\n",
        "        #bytes to base64\n",
        "        data = base64.b64encode(data)\n",
        "\n",
        "    with open(file_name, 'wb') as f:\n",
        "        f.write(data)\n",
        "\n",
        "def read_data(file_name):\n",
        "    with open(file_name, \"rb\") as f:\n",
        "        data = f.read()\n",
        "\n",
        "    #base64 to bytes\n",
        "    return base64.b64decode(data)\n",
        "\n",
        "\n",
        "\n",
        "\n"
      ],
      "metadata": {
        "id": "JQNJbx_JPa_7",
        "colab": {
          "base_uri": "https://localhost:8080/",
          "height": 106
        },
        "outputId": "2c46b77b-f9c7-4d28-ad80-74611664d16c"
      },
      "execution_count": 54,
      "outputs": [
        {
          "output_type": "error",
          "ename": "SyntaxError",
          "evalue": "invalid syntax (<ipython-input-54-c4283a1fcc63>, line 5)",
          "traceback": [
            "\u001b[0;36m  File \u001b[0;32m\"<ipython-input-54-c4283a1fcc63>\"\u001b[0;36m, line \u001b[0;32m5\u001b[0m\n\u001b[0;31m    img1_path =\u001b[0m\n\u001b[0m                ^\u001b[0m\n\u001b[0;31mSyntaxError\u001b[0m\u001b[0;31m:\u001b[0m invalid syntax\n"
          ]
        }
      ]
    },
    {
      "cell_type": "markdown",
      "source": [
        "**bold text**"
      ],
      "metadata": {
        "id": "f4wcZwSUwHN0"
      }
    },
    {
      "cell_type": "code",
      "source": [],
      "metadata": {
        "id": "ucUBcyJzwLaD"
      },
      "execution_count": 55,
      "outputs": []
    }
  ]
}